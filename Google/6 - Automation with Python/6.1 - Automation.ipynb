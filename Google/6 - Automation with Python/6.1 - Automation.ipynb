{
 "cells": [
  {
   "cell_type": "markdown",
   "metadata": {},
   "source": [
    "# Scenario\n",
    "---\n",
    "You are a security professional at a healthcare company. Your responsibilities include regularly updating a file that lists employees allowed to access restricted content. This list is determined by which employees are working with personal patient records. Access to the restricted subnetwork is controlled by an allow list based on their IP addresses. Additionally, there is a remove list that specifies which IP addresses must be taken off the allow list.\n",
    "\n",
    "Your task is to create an algorithm that uses Python code to check whether the allow list contains any IP addresses identified on the remove list. If so, you should remove those IP addresses from the file containing the allow list.\n"
   ]
  },
  {
   "cell_type": "markdown",
   "metadata": {},
   "source": [
    "## Import and Read the File Contents"
   ]
  },
  {
   "cell_type": "code",
   "execution_count": 1,
   "metadata": {},
   "outputs": [],
   "source": [
    "# import the file \n",
    "import_file = \"allow_list.txt\"\n",
    "\n"
   ]
  },
  {
   "cell_type": "code",
   "execution_count": 3,
   "metadata": {},
   "outputs": [],
   "source": [
    "# Open the file\n",
    "with open(import_file, \"r\") as file: \n",
    "    ip_addresses = file.read()"
   ]
  },
  {
   "cell_type": "code",
   "execution_count": 6,
   "metadata": {},
   "outputs": [
    {
     "name": "stdout",
     "output_type": "stream",
     "text": [
      "ip_address\n",
      "192.168.25.60\n",
      "192.168.205.12\n",
      "192.168.97.225\n",
      "192.168.6.9\n",
      "192.168.52.90\n",
      "192.168.158.170\n",
      "192.168.90.124\n",
      "192.168.186.176\n",
      "192.168.133.188\n",
      "192.168.203.198\n",
      "192.168.201.40\n",
      "192.168.218.219\n",
      "192.168.52.37\n",
      "192.168.156.224\n",
      "192.168.60.153\n",
      "192.168.58.57\n",
      "192.168.69.116\n",
      "\n"
     ]
    }
   ],
   "source": [
    "# display the ip_addresses\n",
    "print(ip_addresses)\n",
    "\n",
    "# There are 17 IP addressess in this String. "
   ]
  },
  {
   "cell_type": "markdown",
   "metadata": {},
   "source": [
    "## Convert the String into a List"
   ]
  },
  {
   "cell_type": "code",
   "execution_count": 8,
   "metadata": {},
   "outputs": [
    {
     "name": "stdout",
     "output_type": "stream",
     "text": [
      "['ip_address', '192.168.25.60', '192.168.205.12', '192.168.97.225', '192.168.6.9', '192.168.52.90', '192.168.158.170', '192.168.90.124', '192.168.186.176', '192.168.133.188', '192.168.203.198', '192.168.201.40', '192.168.218.219', '192.168.52.37', '192.168.156.224', '192.168.60.153', '192.168.58.57', '192.168.69.116']\n"
     ]
    }
   ],
   "source": [
    "# String into a list\n",
    "import_file = \"allow_list.txt\"\n",
    "\n",
    "# `with`statement to read the contents\n",
    "with open(import_file, \"r\") as file: \n",
    "    ip_addresses = file.read()\n",
    "\n",
    "# convert from a string to a list\n",
    "ip_addresses = ip_addresses.split()\n",
    "\n",
    "# Display the `ip_addresses`\n",
    "print(ip_addresses)\n",
    "\n",
    "# There are 17 IP addressess in this list. "
   ]
  },
  {
   "cell_type": "markdown",
   "metadata": {},
   "source": [
    "## Remove IP Addresses That Are on the Remove List"
   ]
  },
  {
   "cell_type": "code",
   "execution_count": 10,
   "metadata": {},
   "outputs": [
    {
     "name": "stdout",
     "output_type": "stream",
     "text": [
      "['ip_address', '192.168.25.60', '192.168.205.12', '192.168.6.9', '192.168.52.90', '192.168.90.124', '192.168.186.176', '192.168.133.188', '192.168.203.198', '192.168.218.219', '192.168.52.37', '192.168.156.224', '192.168.60.153', '192.168.69.116']\n"
     ]
    }
   ],
   "source": [
    "# import the file \n",
    "import_file = \"allow_list.txt\"\n",
    "\n",
    "# Assign `remove_list` to a list of IP addresses that are no longer allowed to access restricted information. \n",
    "\n",
    "remove_list = [\"192.168.97.225\", \"192.168.158.170\", \"192.168.201.40\", \"192.168.58.57\"]\n",
    "\n",
    "# `with`statement to read the contents\n",
    "with open(import_file, \"r\") as file: \n",
    "    ip_addresses = file.read()\n",
    "\n",
    "# convert from a string to a list\n",
    "ip_addresses = ip_addresses.split()\n",
    "\n",
    "# Build iterative statement\n",
    "# Name loop variable `element`\n",
    "# Loop through `ip_addresses`\n",
    "\n",
    "for element in ip_addresses:\n",
    "  \n",
    "  # Build conditional statement\n",
    "  # If current element is in `remove_list`,\n",
    "\n",
    "    if element in remove_list:\n",
    "\n",
    "        # then current element should be removed from `ip_addresses`\n",
    "\n",
    "        ip_addresses.remove(element)\n",
    "\n",
    "# Display `ip_addresses` \n",
    "\n",
    "print(ip_addresses)"
   ]
  },
  {
   "cell_type": "markdown",
   "metadata": {},
   "source": [
    "## Update the File With the Revised List of IP Addresses"
   ]
  },
  {
   "cell_type": "code",
   "execution_count": 11,
   "metadata": {},
   "outputs": [
    {
     "name": "stdout",
     "output_type": "stream",
     "text": [
      "ip_address 192.168.25.60 192.168.205.12 192.168.6.9 192.168.52.90 192.168.90.124 192.168.186.176 192.168.133.188 192.168.203.198 192.168.218.219 192.168.52.37 192.168.156.224 192.168.60.153 192.168.69.116\n"
     ]
    }
   ],
   "source": [
    "import_file = \"allow_list.txt\"\n",
    "\n",
    "remove_list = [\"192.168.97.225\", \"192.168.158.170\", \"192.168.201.40\", \"192.168.58.57\"]\n",
    "\n",
    "with open(import_file, \"r\") as file:\n",
    "\n",
    "  ip_addresses = file.read()\n",
    "\n",
    "ip_addresses = ip_addresses.split()\n",
    "\n",
    "for element in ip_addresses:\n",
    "   \n",
    "    if element in remove_list:\n",
    "\n",
    "        ip_addresses.remove(element)\n",
    "\n",
    "# Convert `ip_addresses` back to a string so that it can be written into the text file     \n",
    "\n",
    "ip_addresses = \" \".join(ip_addresses)\n",
    "\n",
    "# Build `with` statement to rewrite the original file\n",
    "\n",
    "with open(import_file, \"w\") as file:\n",
    "\n",
    "  # Rewrite the file, replacing its contents with `ip_addresses`\n",
    "\n",
    "  file.write(ip_addresses)\n",
    "\n",
    "# Build `with` statement to read in the updated file\n",
    "\n",
    "with open(import_file, \"r\") as file:\n",
    "\n",
    "    # Read in the updated file and store the contents in `text`\n",
    "\n",
    "    text = file.read()\n",
    "\n",
    "# Display the contents of `text`\n",
    "\n",
    "print(text)"
   ]
  },
  {
   "cell_type": "code",
   "execution_count": null,
   "metadata": {},
   "outputs": [],
   "source": []
  }
 ],
 "metadata": {
  "kernelspec": {
   "display_name": "Python 3",
   "language": "python",
   "name": "python3"
  },
  "language_info": {
   "codemirror_mode": {
    "name": "ipython",
    "version": 3
   },
   "file_extension": ".py",
   "mimetype": "text/x-python",
   "name": "python",
   "nbconvert_exporter": "python",
   "pygments_lexer": "ipython3",
   "version": "3.12.1"
  }
 },
 "nbformat": 4,
 "nbformat_minor": 4
}
